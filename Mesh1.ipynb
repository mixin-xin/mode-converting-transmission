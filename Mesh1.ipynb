{
 "cells": [
  {
   "cell_type": "markdown",
   "id": "3de23fdd",
   "metadata": {},
   "source": [
    "![alt_text](mesh_structure.png \"mesh_structure\")"
   ]
  },
  {
   "cell_type": "code",
   "execution_count": 1,
   "id": "eab2f208",
   "metadata": {},
   "outputs": [],
   "source": [
    "import numpy as np\n",
    "import matplotlib.pyplot as plt\n",
    "import math"
   ]
  },
  {
   "cell_type": "code",
   "execution_count": null,
   "id": "d5a8b089",
   "metadata": {},
   "outputs": [],
   "source": [
    "for i in range(3):\n",
    "    for j in range(3):\n",
    "        for x in np.linspace(i*L, (i+1)*L, nb_elements):    \n",
    "            for y in np.linspace(j*h, (j+1)*h, nb_elements): \n",
    "                if (x-i*L)**2 + (y-j*h)**2 > r**2:\n",
    "                    Nodes.append([x,y])"
   ]
  },
  {
   "cell_type": "code",
   "execution_count": 32,
   "id": "fc149ffd",
   "metadata": {},
   "outputs": [],
   "source": [
    "l = 0.25\n",
    "\n",
    "a1 = 0.4 * l\n",
    "b1 = 0.2 * l\n",
    "a2 = 0.4 * l\n",
    "b2 = 0.2 * l\n",
    "\n",
    "theta = 61.8 * math.pi/180\n",
    "\n",
    "nb_elements = 50\n",
    "Nodes = []\n",
    "\n",
    "#1-1 Create Nodes\n",
    "\n",
    "for x in np.linspace(0, l, nb_elements):    \n",
    "    for y in np.linspace(0, l, nb_elements): \n",
    "        if (((x - l/2)*math.cos(theta) + (y - l/2)*math.sin(theta))**2/a1**2 + ((x- l/2)*math.sin(theta) - (y- l/2)*math.cos(theta))**2/b1**2 > 1)\\\n",
    "        and (((x)*math.cos(-theta) + (y)*math.sin(-theta))**2/a2**2 + ((x)*math.sin(-theta) - (y)*math.cos(-theta))**2/b2**2 > 1)\\\n",
    "        and (((x)*math.cos(-theta) + (y - l)*math.sin(-theta))**2/a2**2 + ((x)*math.sin(-theta) - (y - l)*math.cos(-theta))**2/b2**2 > 1)\\\n",
    "        and(((x - l)*math.cos(-theta) + (y - l)*math.sin(-theta))**2/a2**2 + ((x - l)*math.sin(-theta) - (y - l)*math.cos(-theta))**2/b2**2 > 1)\\\n",
    "        and(((x - l)*math.cos(-theta) + (y)*math.sin(-theta))**2/a2**2 + ((x - l)*math.sin(-theta) - (y)*math.cos(-theta))**2/b2**2 > 1):\n",
    "            Nodes.append([x,y])\n",
    "\n"
   ]
  },
  {
   "cell_type": "code",
   "execution_count": 33,
   "id": "04d7a028",
   "metadata": {},
   "outputs": [
    {
     "data": {
      "image/png": "[encoded data removed]",
      "text/plain": [
       "<Figure size 432x288 with 1 Axes>"
      ]
     },
     "metadata": {
      "needs_background": "light"
     },
     "output_type": "display_data"
    }
   ],
   "source": [
    "#1-2 Display Nodes\n",
    "\n",
    "points = np.array(Nodes)\n",
    "plt.plot(points[:,0], points[:,1], 'o')\n",
    "plt.show()"
   ]
  },
  {
   "cell_type": "code",
   "execution_count": 12,
   "id": "a4066cf0",
   "metadata": {},
   "outputs": [],
   "source": [
    "l = 0.25\n",
    "\n",
    "a1 = 0.4 * l\n",
    "b1 = 0.2 * l\n",
    "a2 = 0.4 * l\n",
    "b2 = 0.2 * l\n",
    "\n",
    "theta = 61.8 * math.pi/180\n",
    "\n",
    "nb_elements = 50\n",
    "Nodes = []\n",
    "\n",
    "#1-1 Create Nodes\n",
    "for x in np.linspace(0, l, nb_elements):    \n",
    "    for y in np.linspace(0, l, nb_elements): \n",
    "        if (((x - l/2)*math.cos(theta) + (y - l/2)*math.sin(theta))**2/a1**2 + ((x- l/2)*math.sin(theta) - (y- l/2)*math.cos(theta))**2/b1**2 > 1)\\\n",
    "        and (((x)*math.cos(-theta) + (y)*math.sin(-theta))**2/a2**2 + ((x)*math.sin(-theta) - (y)*math.cos(-theta))**2/b2**2 > 1)\\\n",
    "        and (((x)*math.cos(-theta) + (y - l)*math.sin(-theta))**2/a2**2 + ((x)*math.sin(-theta) - (y - l)*math.cos(-theta))**2/b2**2 > 1)\\\n",
    "        and(((x - l)*math.cos(-theta) + (y - l)*math.sin(-theta))**2/a2**2 + ((x - l)*math.sin(-theta) - (y - l)*math.cos(-theta))**2/b2**2 > 1)\\\n",
    "        and(((x - l)*math.cos(-theta) + (y)*math.sin(-theta))**2/a2**2 + ((x - l)*math.sin(-theta) - (y)*math.cos(-theta))**2/b2**2 > 1):\n",
    "            Nodes.append([x,y])\n",
    "\n",
    "for x in np.linspace(l, 2*l, nb_elements):    \n",
    "    for y in np.linspace(0, l, nb_elements): \n",
    "        if (((x - (1/2 + 1)*l)*math.cos(theta) + (y - l/2)*math.sin(theta))**2/a1**2 + ((x- (1/2 + 1)*l)*math.sin(theta) - (y- l/2)*math.cos(theta))**2/b1**2 > 1)\\\n",
    "        and (((x - l)*math.cos(-theta) + (y)*math.sin(-theta))**2/a2**2 + ((x - l)*math.sin(-theta) - (y)*math.cos(-theta))**2/b2**2 > 1)\\\n",
    "        and (((x - l)*math.cos(-theta) + (y - l)*math.sin(-theta))**2/a2**2 + ((x - l)*math.sin(-theta) - (y - l)*math.cos(-theta))**2/b2**2 > 1)\\\n",
    "        and(((x - 2*l)*math.cos(-theta) + (y - 2*l)*math.sin(-theta))**2/a2**2 + ((x - 2*l)*math.sin(-theta) - (y - 2*l)*math.cos(-theta))**2/b2**2 > 1)\\\n",
    "        and(((x - 2*l)*math.cos(-theta) + (y)*math.sin(-theta))**2/a2**2 + ((x - 2*l)*math.sin(-theta) - (y)*math.cos(-theta))**2/b2**2 > 1):\n",
    "            Nodes.append([x,y])\n",
    "\n",
    "for x in np.linspace(0, l, nb_elements):    \n",
    "    for y in np.linspace(l, 2*l, nb_elements): \n",
    "        if (((x - l/2)*math.cos(theta) + (y - (1/2 + 1)*l)*math.sin(theta))**2/a1**2 + ((x- l/2)*math.sin(theta) - (y- (1/2 + 1)*l)*math.cos(theta))**2/b1**2 > 1)\\\n",
    "        and (((x)*math.cos(-theta) + (y - l)*math.sin(-theta))**2/a2**2 + ((x)*math.sin(-theta) - (y - l)*math.cos(-theta))**2/b2**2 > 1)\\\n",
    "        and (((x)*math.cos(-theta) + (y - 2*l)*math.sin(-theta))**2/a2**2 + ((x)*math.sin(-theta) - (y - 2*l)*math.cos(-theta))**2/b2**2 > 1)\\\n",
    "        and(((x - l)*math.cos(-theta) + (y - 2*l)*math.sin(-theta))**2/a2**2 + ((x - l)*math.sin(-theta) - (y - 2*l)*math.cos(-theta))**2/b2**2 > 1)\\\n",
    "        and(((x - l)*math.cos(-theta) + (y - l)*math.sin(-theta))**2/a2**2 + ((x - l)*math.sin(-theta) - (y - l)*math.cos(-theta))**2/b2**2 > 1):\n",
    "            Nodes.append([x,y])\n",
    "\n",
    "for x in np.linspace(l, 2*l, nb_elements):    \n",
    "    for y in np.linspace(l, 2*l, nb_elements): \n",
    "        if (((x - (1/2 + 1)*l)*math.cos(theta) + (y - (1/2 + 1)*l)*math.sin(theta))**2/a1**2 + ((x- (1/2 + 1)*l)*math.sin(theta) - (y- (1/2 + 1)*l)*math.cos(theta))**2/b1**2 > 1)\\\n",
    "        and (((x - l)*math.cos(-theta) + (y - l)*math.sin(-theta))**2/a2**2 + ((x - l)*math.sin(-theta) - (y - l)*math.cos(-theta))**2/b2**2 > 1)\\\n",
    "        and (((x - l)*math.cos(-theta) + (y - 2*l)*math.sin(-theta))**2/a2**2 + ((x - l)*math.sin(-theta) - (y - 2*l)*math.cos(-theta))**2/b2**2 > 1)\\\n",
    "        and(((x - 2*l)*math.cos(-theta) + (y - 2*l)*math.sin(-theta))**2/a2**2 + ((x - 2*l)*math.sin(-theta) - (y - 2*l)*math.cos(-theta))**2/b2**2 > 1)\\\n",
    "        and(((x - 2*l)*math.cos(-theta) + (y - l)*math.sin(-theta))**2/a2**2 + ((x - 2*l)*math.sin(-theta) - (y - l)*math.cos(-theta))**2/b2**2 > 1):\n",
    "            Nodes.append([x,y])\n",
    "\n"
   ]
  },
  {
   "cell_type": "code",
   "execution_count": 13,
   "id": "70fbdbb1",
   "metadata": {},
   "outputs": [
    {
     "data": {
      "image/png": "[encoded data removed]",
      "text/plain": [
       "<Figure size 432x288 with 1 Axes>"
      ]
     },
     "metadata": {
      "needs_background": "light"
     },
     "output_type": "display_data"
    }
   ],
   "source": [
    "#1-2 Display Nodes\n",
    "\n",
    "points = np.array(Nodes)\n",
    "plt.plot(points[:,0], points[:,1], 'o')\n",
    "plt.show()"
   ]
  },
  {
   "cell_type": "code",
   "execution_count": null,
   "id": "f9eec9a8",
   "metadata": {},
   "outputs": [],
   "source": []
  }
 ],
 "metadata": {
  "kernelspec": {
   "display_name": "Python [conda env:root] *",
   "language": "python",
   "name": "conda-root-py"
  },
  "language_info": {
   "codemirror_mode": {
    "name": "ipython",
    "version": 3
   },
   "file_extension": ".py",
   "mimetype": "text/x-python",
   "name": "python",
   "nbconvert_exporter": "python",
   "pygments_lexer": "ipython3",
   "version": "3.9.12"
  },
  "toc": {
   "base_numbering": 1,
   "nav_menu": {},
   "number_sections": true,
   "sideBar": true,
   "skip_h1_title": false,
   "title_cell": "Table of Contents",
   "title_sidebar": "Contents",
   "toc_cell": false,
   "toc_position": {},
   "toc_section_display": true,
   "toc_window_display": false
  }
 },
 "nbformat": 4,
 "nbformat_minor": 5
}
