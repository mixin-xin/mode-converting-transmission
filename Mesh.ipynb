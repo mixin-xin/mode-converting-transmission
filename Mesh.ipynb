{
 "cells": [
  {
   "cell_type": "markdown",
   "id": "3de23fdd",
   "metadata": {},
   "source": [
    "![alt_text](mesh_structure.png \"mesh_structure\")"
   ]
  },
  {
   "cell_type": "code",
   "execution_count": 1,
   "id": "7d21051e",
   "metadata": {},
   "outputs": [],
   "source": [
    "import numpy as np\n",
    "import matplotlib.pyplot as plt\n",
    "import math"
   ]
  },
  {
   "cell_type": "code",
   "execution_count": 24,
   "id": "fc149ffd",
   "metadata": {},
   "outputs": [],
   "source": [
    "l = 0.25\n",
    "\n",
    "#Using parameters from the table\n",
    "a1 = 0.738 * l\n",
    "b1 = 0.387 * l\n",
    "theta = 61.8 * math.pi/180\n",
    "\n",
    "nb_elements = 50\n",
    "Nodes = []\n",
    "\n",
    "#1-1 Create Nodes\n",
    "\n",
    "for x in np.linspace(0, l, nb_elements):    \n",
    "    for y in np.linspace(0, l, nb_elements): \n",
    "        if ((x - l/2)*math.cos(theta) + (y - l/2)*math.sin(theta))**2/a1**2 + ((x- l/2)*math.sin(theta) - (y- l/2)*math.cos(theta))**2/b1**2 > 1:\n",
    "            Nodes.append([x,y])\n",
    "\n"
   ]
  },
  {
   "cell_type": "code",
   "execution_count": 25,
   "id": "04d7a028",
   "metadata": {},
   "outputs": [
    {
     "data": {
      "image/png": "[encoded data removed]",
      "text/plain": [
       "<Figure size 432x288 with 1 Axes>"
      ]
     },
     "metadata": {
      "needs_background": "light"
     },
     "output_type": "display_data"
    }
   ],
   "source": [
    "#1-2 Display Nodes\n",
    "\n",
    "points = np.array(Nodes)\n",
    "plt.plot(points[:,0], points[:,1], 'o')\n",
    "plt.show()"
   ]
  },
  {
   "cell_type": "code",
   "execution_count": null,
   "id": "3d940fce",
   "metadata": {},
   "outputs": [],
   "source": []
  }
 ],
 "metadata": {
  "kernelspec": {
   "display_name": "Python [conda env:root] *",
   "language": "python",
   "name": "conda-root-py"
  },
  "language_info": {
   "codemirror_mode": {
    "name": "ipython",
    "version": 3
   },
   "file_extension": ".py",
   "mimetype": "text/x-python",
   "name": "python",
   "nbconvert_exporter": "python",
   "pygments_lexer": "ipython3",
   "version": "3.9.12"
  },
  "toc": {
   "base_numbering": 1,
   "nav_menu": {},
   "number_sections": true,
   "sideBar": true,
   "skip_h1_title": false,
   "title_cell": "Table of Contents",
   "title_sidebar": "Contents",
   "toc_cell": false,
   "toc_position": {},
   "toc_section_display": true,
   "toc_window_display": false
  }
 },
 "nbformat": 4,
 "nbformat_minor": 5
}
